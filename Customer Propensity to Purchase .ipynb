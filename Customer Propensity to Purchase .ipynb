{
 "cells": [
  {
   "cell_type": "raw",
   "metadata": {},
   "source": [
    "Context\n",
    "You get many visitors to your website every day, but you know only a small percentage of them are likely to buy from you, while most will perhaps not even return. Right now you may be spending money to re-market to everyone, but perhaps we could use machine learning to identify the most valuable prospects?\n",
    "\n",
    "Content\n",
    "This data set represents a day's worth of visit to an online supermarket website. Each row represents a unique customer, identified by their unique UserID. The columns represent feature of the users visit (such as the device they were using) and things the user did on the website in that day. These features will be different for every website, but in this data a few of the features we consider are:\n",
    "\n",
    "basketadddetail: Did the customer add a product to their shopping basket from the product detail page?\n",
    "sign_in: Did the customer sign in to the website?\n",
    "saw_homepage: Did the customer visit the website's homepage?\n",
    "returning_user: Is this visitor new, or returning?\n",
    "In this data set we also have a feature showing whether the customer placed an order (ordered), which is what we predict on."
   ]
  },
  {
   "cell_type": "code",
   "execution_count": 2,
   "metadata": {},
   "outputs": [],
   "source": [
    "import numpy as np\n",
    "import pandas as pd\n",
    "import matplotlib.pyplot as plt\n",
    "import seaborn as sns\n",
    "import statsmodels as sm\n",
    "import statsmodels.api as sm"
   ]
  },
  {
   "cell_type": "code",
   "execution_count": 3,
   "metadata": {},
   "outputs": [],
   "source": [
    "train = pd.read_csv(r\"D:\\GreatLearning\\Datasets\\Customer Propensity To Purchase\\training_sample.csv\")"
   ]
  },
  {
   "cell_type": "code",
   "execution_count": 4,
   "metadata": {},
   "outputs": [],
   "source": [
    "test = pd.read_csv(r\"D:\\GreatLearning\\Datasets\\Customer Propensity To Purchase\\testing_sample.csv\")"
   ]
  },
  {
   "cell_type": "code",
   "execution_count": 5,
   "metadata": {},
   "outputs": [],
   "source": [
    "data = train.copy()"
   ]
  },
  {
   "cell_type": "code",
   "execution_count": 6,
   "metadata": {},
   "outputs": [
    {
     "data": {
      "text/html": [
       "<div>\n",
       "<style scoped>\n",
       "    .dataframe tbody tr th:only-of-type {\n",
       "        vertical-align: middle;\n",
       "    }\n",
       "\n",
       "    .dataframe tbody tr th {\n",
       "        vertical-align: top;\n",
       "    }\n",
       "\n",
       "    .dataframe thead th {\n",
       "        text-align: right;\n",
       "    }\n",
       "</style>\n",
       "<table border=\"1\" class=\"dataframe\">\n",
       "  <thead>\n",
       "    <tr style=\"text-align: right;\">\n",
       "      <th></th>\n",
       "      <th>UserID</th>\n",
       "      <th>basket_icon_click</th>\n",
       "      <th>basket_add_list</th>\n",
       "      <th>basket_add_detail</th>\n",
       "      <th>sort_by</th>\n",
       "      <th>image_picker</th>\n",
       "      <th>account_page_click</th>\n",
       "      <th>promo_banner_click</th>\n",
       "      <th>detail_wishlist_add</th>\n",
       "      <th>list_size_dropdown</th>\n",
       "      <th>...</th>\n",
       "      <th>saw_sizecharts</th>\n",
       "      <th>saw_delivery</th>\n",
       "      <th>saw_account_upgrade</th>\n",
       "      <th>saw_homepage</th>\n",
       "      <th>device_mobile</th>\n",
       "      <th>device_computer</th>\n",
       "      <th>device_tablet</th>\n",
       "      <th>returning_user</th>\n",
       "      <th>loc_uk</th>\n",
       "      <th>ordered</th>\n",
       "    </tr>\n",
       "  </thead>\n",
       "  <tbody>\n",
       "    <tr>\n",
       "      <th>0</th>\n",
       "      <td>a720-6b732349-a720-4862-bd21-644732</td>\n",
       "      <td>0</td>\n",
       "      <td>0</td>\n",
       "      <td>0</td>\n",
       "      <td>0</td>\n",
       "      <td>0</td>\n",
       "      <td>0</td>\n",
       "      <td>0</td>\n",
       "      <td>0</td>\n",
       "      <td>0</td>\n",
       "      <td>...</td>\n",
       "      <td>0</td>\n",
       "      <td>0</td>\n",
       "      <td>0</td>\n",
       "      <td>0</td>\n",
       "      <td>1</td>\n",
       "      <td>0</td>\n",
       "      <td>0</td>\n",
       "      <td>0</td>\n",
       "      <td>1</td>\n",
       "      <td>0</td>\n",
       "    </tr>\n",
       "    <tr>\n",
       "      <th>1</th>\n",
       "      <td>a0c0-6b73247c-a0c0-4bd9-8baa-797356</td>\n",
       "      <td>0</td>\n",
       "      <td>0</td>\n",
       "      <td>0</td>\n",
       "      <td>0</td>\n",
       "      <td>0</td>\n",
       "      <td>0</td>\n",
       "      <td>0</td>\n",
       "      <td>0</td>\n",
       "      <td>0</td>\n",
       "      <td>...</td>\n",
       "      <td>0</td>\n",
       "      <td>0</td>\n",
       "      <td>0</td>\n",
       "      <td>0</td>\n",
       "      <td>1</td>\n",
       "      <td>0</td>\n",
       "      <td>0</td>\n",
       "      <td>0</td>\n",
       "      <td>1</td>\n",
       "      <td>0</td>\n",
       "    </tr>\n",
       "    <tr>\n",
       "      <th>2</th>\n",
       "      <td>86a8-6b735c67-86a8-407b-ba24-333055</td>\n",
       "      <td>0</td>\n",
       "      <td>0</td>\n",
       "      <td>0</td>\n",
       "      <td>0</td>\n",
       "      <td>0</td>\n",
       "      <td>0</td>\n",
       "      <td>0</td>\n",
       "      <td>0</td>\n",
       "      <td>0</td>\n",
       "      <td>...</td>\n",
       "      <td>0</td>\n",
       "      <td>0</td>\n",
       "      <td>0</td>\n",
       "      <td>0</td>\n",
       "      <td>1</td>\n",
       "      <td>0</td>\n",
       "      <td>0</td>\n",
       "      <td>1</td>\n",
       "      <td>1</td>\n",
       "      <td>0</td>\n",
       "    </tr>\n",
       "    <tr>\n",
       "      <th>3</th>\n",
       "      <td>6a3d-6b736346-6a3d-4085-934b-396834</td>\n",
       "      <td>0</td>\n",
       "      <td>0</td>\n",
       "      <td>0</td>\n",
       "      <td>0</td>\n",
       "      <td>0</td>\n",
       "      <td>0</td>\n",
       "      <td>0</td>\n",
       "      <td>0</td>\n",
       "      <td>0</td>\n",
       "      <td>...</td>\n",
       "      <td>0</td>\n",
       "      <td>0</td>\n",
       "      <td>0</td>\n",
       "      <td>0</td>\n",
       "      <td>1</td>\n",
       "      <td>0</td>\n",
       "      <td>0</td>\n",
       "      <td>1</td>\n",
       "      <td>1</td>\n",
       "      <td>0</td>\n",
       "    </tr>\n",
       "    <tr>\n",
       "      <th>4</th>\n",
       "      <td>b74a-6b737717-b74a-45c3-8c6a-421140</td>\n",
       "      <td>0</td>\n",
       "      <td>1</td>\n",
       "      <td>0</td>\n",
       "      <td>1</td>\n",
       "      <td>0</td>\n",
       "      <td>0</td>\n",
       "      <td>0</td>\n",
       "      <td>0</td>\n",
       "      <td>1</td>\n",
       "      <td>...</td>\n",
       "      <td>0</td>\n",
       "      <td>0</td>\n",
       "      <td>0</td>\n",
       "      <td>1</td>\n",
       "      <td>0</td>\n",
       "      <td>0</td>\n",
       "      <td>1</td>\n",
       "      <td>0</td>\n",
       "      <td>1</td>\n",
       "      <td>1</td>\n",
       "    </tr>\n",
       "  </tbody>\n",
       "</table>\n",
       "<p>5 rows × 25 columns</p>\n",
       "</div>"
      ],
      "text/plain": [
       "                                UserID  basket_icon_click  basket_add_list  \\\n",
       "0  a720-6b732349-a720-4862-bd21-644732                  0                0   \n",
       "1  a0c0-6b73247c-a0c0-4bd9-8baa-797356                  0                0   \n",
       "2  86a8-6b735c67-86a8-407b-ba24-333055                  0                0   \n",
       "3  6a3d-6b736346-6a3d-4085-934b-396834                  0                0   \n",
       "4  b74a-6b737717-b74a-45c3-8c6a-421140                  0                1   \n",
       "\n",
       "   basket_add_detail  sort_by  image_picker  account_page_click  \\\n",
       "0                  0        0             0                   0   \n",
       "1                  0        0             0                   0   \n",
       "2                  0        0             0                   0   \n",
       "3                  0        0             0                   0   \n",
       "4                  0        1             0                   0   \n",
       "\n",
       "   promo_banner_click  detail_wishlist_add  list_size_dropdown  ...  \\\n",
       "0                   0                    0                   0  ...   \n",
       "1                   0                    0                   0  ...   \n",
       "2                   0                    0                   0  ...   \n",
       "3                   0                    0                   0  ...   \n",
       "4                   0                    0                   1  ...   \n",
       "\n",
       "   saw_sizecharts  saw_delivery  saw_account_upgrade  saw_homepage  \\\n",
       "0               0             0                    0             0   \n",
       "1               0             0                    0             0   \n",
       "2               0             0                    0             0   \n",
       "3               0             0                    0             0   \n",
       "4               0             0                    0             1   \n",
       "\n",
       "   device_mobile  device_computer  device_tablet  returning_user  loc_uk  \\\n",
       "0              1                0              0               0       1   \n",
       "1              1                0              0               0       1   \n",
       "2              1                0              0               1       1   \n",
       "3              1                0              0               1       1   \n",
       "4              0                0              1               0       1   \n",
       "\n",
       "   ordered  \n",
       "0        0  \n",
       "1        0  \n",
       "2        0  \n",
       "3        0  \n",
       "4        1  \n",
       "\n",
       "[5 rows x 25 columns]"
      ]
     },
     "execution_count": 6,
     "metadata": {},
     "output_type": "execute_result"
    }
   ],
   "source": [
    "data.head()"
   ]
  },
  {
   "cell_type": "code",
   "execution_count": 7,
   "metadata": {},
   "outputs": [
    {
     "name": "stdout",
     "output_type": "stream",
     "text": [
      "<class 'pandas.core.frame.DataFrame'>\n",
      "RangeIndex: 455401 entries, 0 to 455400\n",
      "Data columns (total 25 columns):\n",
      "UserID                     455401 non-null object\n",
      "basket_icon_click          455401 non-null int64\n",
      "basket_add_list            455401 non-null int64\n",
      "basket_add_detail          455401 non-null int64\n",
      "sort_by                    455401 non-null int64\n",
      "image_picker               455401 non-null int64\n",
      "account_page_click         455401 non-null int64\n",
      "promo_banner_click         455401 non-null int64\n",
      "detail_wishlist_add        455401 non-null int64\n",
      "list_size_dropdown         455401 non-null int64\n",
      "closed_minibasket_click    455401 non-null int64\n",
      "checked_delivery_detail    455401 non-null int64\n",
      "checked_returns_detail     455401 non-null int64\n",
      "sign_in                    455401 non-null int64\n",
      "saw_checkout               455401 non-null int64\n",
      "saw_sizecharts             455401 non-null int64\n",
      "saw_delivery               455401 non-null int64\n",
      "saw_account_upgrade        455401 non-null int64\n",
      "saw_homepage               455401 non-null int64\n",
      "device_mobile              455401 non-null int64\n",
      "device_computer            455401 non-null int64\n",
      "device_tablet              455401 non-null int64\n",
      "returning_user             455401 non-null int64\n",
      "loc_uk                     455401 non-null int64\n",
      "ordered                    455401 non-null int64\n",
      "dtypes: int64(24), object(1)\n",
      "memory usage: 86.9+ MB\n"
     ]
    }
   ],
   "source": [
    "data.info()"
   ]
  },
  {
   "cell_type": "code",
   "execution_count": 8,
   "metadata": {},
   "outputs": [],
   "source": [
    "x = data.drop(['ordered','UserID'],axis=1)\n",
    "y = data['ordered']"
   ]
  },
  {
   "cell_type": "code",
   "execution_count": 9,
   "metadata": {},
   "outputs": [],
   "source": [
    "# splitting data as X_train and X_test\n",
    "from sklearn.model_selection import train_test_split\n",
    "xtrain, xtest, ytrain, ytest = train_test_split(x, y, test_size = 0.3,random_state = 42)"
   ]
  },
  {
   "cell_type": "code",
   "execution_count": 10,
   "metadata": {},
   "outputs": [],
   "source": [
    "params1 = {'n_estimators':400,\n",
    "          'min_samples_split':200,\n",
    "           'min_samples_leaf':3\n",
    "        }"
   ]
  },
  {
   "cell_type": "code",
   "execution_count": 11,
   "metadata": {},
   "outputs": [],
   "source": [
    "from sklearn.ensemble import RandomForestClassifier\n",
    "rf=RandomForestClassifier()\n",
    "rf.fit(xtrain,ytrain)\n",
    "pred_rf=rf.predict(xtest)"
   ]
  },
  {
   "cell_type": "code",
   "execution_count": 12,
   "metadata": {},
   "outputs": [
    {
     "name": "stdout",
     "output_type": "stream",
     "text": [
      "0.8210610566547718\n",
      "R^2 score:0.9941934876717485\n",
      "R^2 score:0.9928927470886614\n"
     ]
    }
   ],
   "source": [
    "from sklearn.metrics import r2_score\n",
    "print(r2_score(y_true=ytest, y_pred=pred_rf))\n",
    "print(f'R^2 score:{rf.score(xtrain,ytrain)}')\n",
    "print(f'R^2 score:{rf.score(xtest,ytest)}')"
   ]
  },
  {
   "cell_type": "code",
   "execution_count": 13,
   "metadata": {},
   "outputs": [
    {
     "data": {
      "text/plain": [
       "<matplotlib.axes._subplots.AxesSubplot at 0x274394f7518>"
      ]
     },
     "execution_count": 13,
     "metadata": {},
     "output_type": "execute_result"
    },
    {
     "data": {
      "image/png": "[encoded data removed]",
      "text/plain": [
       "<Figure size 1584x2304 with 1 Axes>"
      ]
     },
     "metadata": {
      "needs_background": "light"
     },
     "output_type": "display_data"
    }
   ],
   "source": [
    "plt.figure(figsize=(22,32))\n",
    "feat_importances = pd.Series(rf.feature_importances_, index=x.columns)\n",
    "\n",
    "feat_importances.plot(kind='barh')"
   ]
  },
  {
   "cell_type": "code",
   "execution_count": 25,
   "metadata": {},
   "outputs": [],
   "source": [
    "import xgboost as xgb"
   ]
  },
  {
   "cell_type": "code",
   "execution_count": 26,
   "metadata": {},
   "outputs": [],
   "source": [
    "from xgboost.sklearn import XGBClassifier \n",
    "xgb=XGBClassifier() \n",
    "preds_xgb=xgb.fit(xtrain,ytrain).predict(xtest)"
   ]
  },
  {
   "cell_type": "code",
   "execution_count": 27,
   "metadata": {},
   "outputs": [
    {
     "name": "stdout",
     "output_type": "stream",
     "text": [
      "0.8243781534418101\n",
      "R^2 score:0.9941934876717485\n",
      "R^2 score:0.9928927470886614\n"
     ]
    }
   ],
   "source": [
    "from sklearn.metrics import r2_score\n",
    "print(r2_score(y_true=ytest, y_pred=preds_xgb))\n",
    "print(f'R^2 score:{rf.score(xtrain,ytrain)}')\n",
    "print(f'R^2 score:{rf.score(xtest,ytest)}')"
   ]
  },
  {
   "cell_type": "code",
   "execution_count": 14,
   "metadata": {},
   "outputs": [],
   "source": [
    "from statsmodels.stats.outliers_influence import variance_inflation_factor\n",
    "\n",
    "def calc_vif(x):\n",
    "\n",
    "    # Calculating VIF\n",
    "    vif = pd.DataFrame()\n",
    "    vif[\"variables\"] = x.columns\n",
    "    vif[\"VIF\"] = [variance_inflation_factor(x.values, i) for i in range(x.shape[1])]\n",
    "\n",
    "    return(vif)"
   ]
  },
  {
   "cell_type": "code",
   "execution_count": 15,
   "metadata": {},
   "outputs": [
    {
     "data": {
      "text/html": [
       "<div>\n",
       "<style scoped>\n",
       "    .dataframe tbody tr th:only-of-type {\n",
       "        vertical-align: middle;\n",
       "    }\n",
       "\n",
       "    .dataframe tbody tr th {\n",
       "        vertical-align: top;\n",
       "    }\n",
       "\n",
       "    .dataframe thead th {\n",
       "        text-align: right;\n",
       "    }\n",
       "</style>\n",
       "<table border=\"1\" class=\"dataframe\">\n",
       "  <thead>\n",
       "    <tr style=\"text-align: right;\">\n",
       "      <th></th>\n",
       "      <th>variables</th>\n",
       "      <th>VIF</th>\n",
       "    </tr>\n",
       "  </thead>\n",
       "  <tbody>\n",
       "    <tr>\n",
       "      <th>0</th>\n",
       "      <td>basket_icon_click</td>\n",
       "      <td>2.047719</td>\n",
       "    </tr>\n",
       "    <tr>\n",
       "      <th>1</th>\n",
       "      <td>basket_add_list</td>\n",
       "      <td>1.674745</td>\n",
       "    </tr>\n",
       "    <tr>\n",
       "      <th>2</th>\n",
       "      <td>basket_add_detail</td>\n",
       "      <td>1.780923</td>\n",
       "    </tr>\n",
       "    <tr>\n",
       "      <th>3</th>\n",
       "      <td>sort_by</td>\n",
       "      <td>1.185449</td>\n",
       "    </tr>\n",
       "    <tr>\n",
       "      <th>4</th>\n",
       "      <td>image_picker</td>\n",
       "      <td>1.138775</td>\n",
       "    </tr>\n",
       "    <tr>\n",
       "      <th>5</th>\n",
       "      <td>account_page_click</td>\n",
       "      <td>1.130253</td>\n",
       "    </tr>\n",
       "    <tr>\n",
       "      <th>6</th>\n",
       "      <td>promo_banner_click</td>\n",
       "      <td>1.042587</td>\n",
       "    </tr>\n",
       "    <tr>\n",
       "      <th>7</th>\n",
       "      <td>detail_wishlist_add</td>\n",
       "      <td>1.066770</td>\n",
       "    </tr>\n",
       "    <tr>\n",
       "      <th>8</th>\n",
       "      <td>list_size_dropdown</td>\n",
       "      <td>1.765275</td>\n",
       "    </tr>\n",
       "    <tr>\n",
       "      <th>9</th>\n",
       "      <td>closed_minibasket_click</td>\n",
       "      <td>1.151321</td>\n",
       "    </tr>\n",
       "    <tr>\n",
       "      <th>10</th>\n",
       "      <td>checked_delivery_detail</td>\n",
       "      <td>2.129950</td>\n",
       "    </tr>\n",
       "    <tr>\n",
       "      <th>11</th>\n",
       "      <td>checked_returns_detail</td>\n",
       "      <td>1.075586</td>\n",
       "    </tr>\n",
       "    <tr>\n",
       "      <th>12</th>\n",
       "      <td>sign_in</td>\n",
       "      <td>9.786845</td>\n",
       "    </tr>\n",
       "    <tr>\n",
       "      <th>13</th>\n",
       "      <td>saw_checkout</td>\n",
       "      <td>9.661590</td>\n",
       "    </tr>\n",
       "    <tr>\n",
       "      <th>14</th>\n",
       "      <td>saw_sizecharts</td>\n",
       "      <td>1.001376</td>\n",
       "    </tr>\n",
       "    <tr>\n",
       "      <th>15</th>\n",
       "      <td>saw_delivery</td>\n",
       "      <td>1.066949</td>\n",
       "    </tr>\n",
       "    <tr>\n",
       "      <th>16</th>\n",
       "      <td>saw_account_upgrade</td>\n",
       "      <td>1.005718</td>\n",
       "    </tr>\n",
       "    <tr>\n",
       "      <th>17</th>\n",
       "      <td>saw_homepage</td>\n",
       "      <td>1.579528</td>\n",
       "    </tr>\n",
       "    <tr>\n",
       "      <th>18</th>\n",
       "      <td>device_mobile</td>\n",
       "      <td>11.780301</td>\n",
       "    </tr>\n",
       "    <tr>\n",
       "      <th>19</th>\n",
       "      <td>device_computer</td>\n",
       "      <td>3.687012</td>\n",
       "    </tr>\n",
       "    <tr>\n",
       "      <th>20</th>\n",
       "      <td>device_tablet</td>\n",
       "      <td>3.110726</td>\n",
       "    </tr>\n",
       "    <tr>\n",
       "      <th>21</th>\n",
       "      <td>returning_user</td>\n",
       "      <td>2.209838</td>\n",
       "    </tr>\n",
       "    <tr>\n",
       "      <th>22</th>\n",
       "      <td>loc_uk</td>\n",
       "      <td>14.688576</td>\n",
       "    </tr>\n",
       "  </tbody>\n",
       "</table>\n",
       "</div>"
      ],
      "text/plain": [
       "                  variables        VIF\n",
       "0         basket_icon_click   2.047719\n",
       "1           basket_add_list   1.674745\n",
       "2         basket_add_detail   1.780923\n",
       "3                   sort_by   1.185449\n",
       "4              image_picker   1.138775\n",
       "5        account_page_click   1.130253\n",
       "6        promo_banner_click   1.042587\n",
       "7       detail_wishlist_add   1.066770\n",
       "8        list_size_dropdown   1.765275\n",
       "9   closed_minibasket_click   1.151321\n",
       "10  checked_delivery_detail   2.129950\n",
       "11   checked_returns_detail   1.075586\n",
       "12                  sign_in   9.786845\n",
       "13             saw_checkout   9.661590\n",
       "14           saw_sizecharts   1.001376\n",
       "15             saw_delivery   1.066949\n",
       "16      saw_account_upgrade   1.005718\n",
       "17             saw_homepage   1.579528\n",
       "18            device_mobile  11.780301\n",
       "19          device_computer   3.687012\n",
       "20            device_tablet   3.110726\n",
       "21           returning_user   2.209838\n",
       "22                   loc_uk  14.688576"
      ]
     },
     "execution_count": 15,
     "metadata": {},
     "output_type": "execute_result"
    }
   ],
   "source": [
    "calc_vif(x)"
   ]
  },
  {
   "cell_type": "code",
   "execution_count": 16,
   "metadata": {},
   "outputs": [
    {
     "data": {
      "text/plain": [
       "basket_icon_click          0.043534\n",
       "basket_add_list            0.021282\n",
       "basket_add_detail          0.046661\n",
       "sort_by                    0.002282\n",
       "image_picker               0.002275\n",
       "account_page_click         0.001684\n",
       "promo_banner_click         0.002393\n",
       "detail_wishlist_add        0.001639\n",
       "list_size_dropdown         0.007102\n",
       "closed_minibasket_click    0.003677\n",
       "checked_delivery_detail    0.450924\n",
       "checked_returns_detail     0.004876\n",
       "sign_in                    0.163983\n",
       "saw_checkout               0.215535\n",
       "saw_sizecharts             0.000223\n",
       "saw_delivery               0.007179\n",
       "saw_account_upgrade        0.001038\n",
       "saw_homepage               0.008011\n",
       "device_mobile              0.002835\n",
       "device_computer            0.002494\n",
       "device_tablet              0.001649\n",
       "returning_user             0.004815\n",
       "loc_uk                     0.003905\n",
       "dtype: float64"
      ]
     },
     "execution_count": 16,
     "metadata": {},
     "output_type": "execute_result"
    }
   ],
   "source": [
    "feat_importances"
   ]
  },
  {
   "cell_type": "code",
   "execution_count": null,
   "metadata": {},
   "outputs": [],
   "source": [
    "vif = calc_vif(x).copy()"
   ]
  }
 ],
 "metadata": {
  "kernelspec": {
   "display_name": "Python 3",
   "language": "python",
   "name": "python3"
  },
  "language_info": {
   "codemirror_mode": {
    "name": "ipython",
    "version": 3
   },
   "file_extension": ".py",
   "mimetype": "text/x-python",
   "name": "python",
   "nbconvert_exporter": "python",
   "pygments_lexer": "ipython3",
   "version": "3.7.3"
  }
 },
 "nbformat": 4,
 "nbformat_minor": 2
}
